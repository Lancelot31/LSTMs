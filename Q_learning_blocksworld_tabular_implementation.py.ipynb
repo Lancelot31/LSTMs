{
 "cells": [
  {
   "cell_type": "markdown",
   "metadata": {},
   "source": [
    "Prepare the environment"
   ]
  },
  {
   "cell_type": "code",
   "execution_count": 12,
   "metadata": {},
   "outputs": [],
   "source": [
    "import gym\n",
    "import numpy as np\n",
    "\n",
    "\n",
    "numBlocks = 2\n",
    "env = gym.make('BlocksWorld-v0')\n",
    "\n",
    "env.seed(0)\n",
    "env.reset()\n",
    "\n",
    "LEARNING_RATE = 0.1\n",
    "DISCOUNT_FACTOR = 0.99\n",
    "EPSILON_START = 0.9\n",
    "EPSILON_END = 0.1\n",
    "\n",
    "done = False\n",
    "num_episodes = 50"
   ]
  },
  {
   "cell_type": "markdown",
   "metadata": {},
   "source": [
    "Create the matrix that will store the Q values"
   ]
  },
  {
   "cell_type": "code",
   "execution_count": 13,
   "metadata": {},
   "outputs": [],
   "source": [
    "q_values = {}\n",
    "#q_values = {'hola': 4}\n",
    "#print (q_values['hola'])"
   ]
  },
  {
   "cell_type": "code",
   "execution_count": 14,
   "metadata": {},
   "outputs": [
    {
     "name": "stdout",
     "output_type": "stream",
     "text": [
      "1 2 5\n"
     ]
    }
   ],
   "source": [
    "def get_key_from_arrays (state,action):\n",
    "    state_str = \" \".join(str(x) for x in state)\n",
    "    action_str = str(action)\n",
    "    dictionary_key = state_str + \" \" + action_str\n",
    "    return (dictionary_key)\n",
    "\n",
    "state = [1,2]\n",
    "action = 5\n",
    "print (get_key_from_arrays(state,action))"
   ]
  },
  {
   "cell_type": "code",
   "execution_count": 15,
   "metadata": {},
   "outputs": [],
   "source": [
    "def get_q_value(state,action):\n",
    "    dictionary_key = get_key_from_arrays(state,action)\n",
    "    if (dictionary_key in q_values):\n",
    "        return (q_values[dictionary_key])\n",
    "    else:\n",
    "        return 0\n",
    "\n",
    "def set_q_value(state,action,value):\n",
    "    dictionary_key = get_key_from_arrays(state,action)\n",
    "    q_values[dictionary_key] = value\n",
    "\n",
    "#state = [1,2]\n",
    "#action = 5\n",
    "#\n",
    "#print (get_q_value(state,action))\n",
    "#set_q_value(state,action,-8)\n",
    "#print (get_q_value(state,action))\n",
    "\n",
    "\n"
   ]
  },
  {
   "cell_type": "code",
   "execution_count": 16,
   "metadata": {},
   "outputs": [],
   "source": [
    "from itertools import product\n",
    "def get_all_possible_actions_bad(nBlocks):\n",
    "    d1 = range(0,nBlocks-1)\n",
    "    d2 = range(0,nBlocks)    \n",
    "    allActions = product(d1,d2)\n",
    "    #for x in p:\n",
    "    #    print (x)\n",
    "    return (allActions)\n",
    "\n",
    "def get_all_possible_actions(nBlocks):\n",
    "    allActions = np.arange(nBlocks*2)\n",
    "    #for x in p:\n",
    "    #    print (x)\n",
    "    return (allActions)\n",
    "\n"
   ]
  },
  {
   "cell_type": "code",
   "execution_count": null,
   "metadata": {},
   "outputs": [],
   "source": []
  },
  {
   "cell_type": "code",
   "execution_count": 17,
   "metadata": {},
   "outputs": [
    {
     "name": "stdout",
     "output_type": "stream",
     "text": [
      "[0 1 2 3]\n"
     ]
    }
   ],
   "source": [
    "#Generate a list with all possible actions\n",
    "allActions = get_all_possible_actions(numBlocks)\n",
    "\n",
    "print (allActions)\n"
   ]
  },
  {
   "cell_type": "code",
   "execution_count": 18,
   "metadata": {},
   "outputs": [],
   "source": [
    "def get_maximum_q_value_for_all_possible_actions (state):\n",
    "    max_value = -1000000.0\n",
    "    which_action = 0\n",
    "    for one_action in allActions:    \n",
    "        val = get_q_value (state,one_action)\n",
    "        if (val>max_value):\n",
    "            #print (val)\n",
    "            #print (max_value)\n",
    "            max_value = val\n",
    "            which_action = one_action\n",
    "    #print ('STATE')\n",
    "    #print (state)\n",
    "    #print ('CHOOSING')\n",
    "    #print (which_action)\n",
    "    return (max_value,which_action)\n",
    "\n",
    "#state = (0,1)\n",
    "#print (get_maximum_q_value_for_all_possible_actions(state))\n",
    "\n",
    "    "
   ]
  },
  {
   "cell_type": "code",
   "execution_count": 19,
   "metadata": {},
   "outputs": [],
   "source": [
    "def calculate_next_q_value (state,action,current_reward, next_state):\n",
    "    new_q_value = get_q_value (state,action) + \\\n",
    "        LEARNING_RATE*(current_reward + \\\n",
    "        DISCOUNT_FACTOR*(get_maximum_q_value_for_all_possible_actions(next_state)[0]) - get_q_value(state,action))\n",
    "    set_q_value(state,action,new_q_value)\n"
   ]
  },
  {
   "cell_type": "code",
   "execution_count": 20,
   "metadata": {},
   "outputs": [],
   "source": [
    "import random\n",
    "def choose_next_action_epsilon_greedy(state,epsilon):    \n",
    "    best_action = get_maximum_q_value_for_all_possible_actions(state)[1]\n",
    "    #random_action = [random.randint(0,numBlocks-1),random.randint(0,numBlocks)]\n",
    "    random_action = random.randint(0,2*numBlocks-1)\n",
    "    BEST = 0\n",
    "    RANDOM = 1\n",
    "    next_action_boolean = np.random.choice([BEST, RANDOM],1,  p=[1-epsilon,epsilon])\n",
    "    if (next_action_boolean == BEST):\n",
    "        return (best_action)\n",
    "    else:\n",
    "        return (random_action)\n",
    "#print (choose_next_action_epsilon_greedy(EPSILON_START))"
   ]
  },
  {
   "cell_type": "code",
   "execution_count": 21,
   "metadata": {},
   "outputs": [
    {
     "name": "stdout",
     "output_type": "stream",
     "text": [
      "0\n",
      "Episode completed, steps:20001\n",
      "New episode\n",
      "1\n",
      "Episode completed, steps:20001\n",
      "New episode\n",
      "2\n",
      "\n",
      "*************** PROBLEM SOLVED!!!!!!!!!!!! **********\n",
      "Episode completed, steps:11\n",
      "New episode\n",
      "3\n",
      "\n",
      "*************** PROBLEM SOLVED!!!!!!!!!!!! **********\n",
      "Episode completed, steps:3\n",
      "New episode\n",
      "4\n",
      "\n",
      "*************** PROBLEM SOLVED!!!!!!!!!!!! **********\n",
      "Episode completed, steps:3\n",
      "New episode\n",
      "5\n",
      "Episode completed, steps:20001\n",
      "New episode\n",
      "6\n",
      "Episode completed, steps:20001\n",
      "New episode\n",
      "7\n",
      "\n",
      "*************** PROBLEM SOLVED!!!!!!!!!!!! **********\n",
      "Episode completed, steps:2\n",
      "New episode\n",
      "8\n",
      "\n",
      "*************** PROBLEM SOLVED!!!!!!!!!!!! **********\n",
      "Episode completed, steps:2\n",
      "New episode\n",
      "9\n",
      "\n",
      "*************** PROBLEM SOLVED!!!!!!!!!!!! **********\n",
      "Episode completed, steps:2\n",
      "New episode\n",
      "10\n",
      "\n",
      "*************** PROBLEM SOLVED!!!!!!!!!!!! **********\n",
      "Episode completed, steps:3\n",
      "New episode\n",
      "11\n",
      "Episode completed, steps:20001\n",
      "New episode\n",
      "12\n",
      "Episode completed, steps:20001\n",
      "New episode\n",
      "13\n",
      "Episode completed, steps:20001\n",
      "New episode\n",
      "14\n",
      "\n",
      "*************** PROBLEM SOLVED!!!!!!!!!!!! **********\n",
      "Episode completed, steps:3\n",
      "New episode\n",
      "15\n",
      "\n",
      "*************** PROBLEM SOLVED!!!!!!!!!!!! **********\n",
      "Episode completed, steps:2\n",
      "New episode\n",
      "16\n",
      "\n",
      "*************** PROBLEM SOLVED!!!!!!!!!!!! **********\n",
      "Episode completed, steps:4\n",
      "New episode\n",
      "17\n",
      "\n",
      "*************** PROBLEM SOLVED!!!!!!!!!!!! **********\n",
      "Episode completed, steps:2\n",
      "New episode\n",
      "18\n",
      "Episode completed, steps:20001\n",
      "New episode\n",
      "19\n",
      "Episode completed, steps:20001\n",
      "New episode\n",
      "20\n",
      "\n",
      "*************** PROBLEM SOLVED!!!!!!!!!!!! **********\n",
      "Episode completed, steps:2\n",
      "New episode\n",
      "21\n",
      "\n",
      "*************** PROBLEM SOLVED!!!!!!!!!!!! **********\n",
      "Episode completed, steps:2\n",
      "New episode\n",
      "22\n",
      "Episode completed, steps:20001\n",
      "New episode\n",
      "23\n",
      "Episode completed, steps:20001\n",
      "New episode\n",
      "24\n",
      "Episode completed, steps:20001\n",
      "New episode\n",
      "25\n",
      "Episode completed, steps:20001\n",
      "New episode\n",
      "26\n",
      "\n",
      "*************** PROBLEM SOLVED!!!!!!!!!!!! **********\n",
      "Episode completed, steps:2\n",
      "New episode\n",
      "27\n",
      "Episode completed, steps:20001\n",
      "New episode\n",
      "28\n",
      "Episode completed, steps:20001\n",
      "New episode\n",
      "29\n",
      "Episode completed, steps:20001\n",
      "New episode\n",
      "30\n",
      "\n",
      "*************** PROBLEM SOLVED!!!!!!!!!!!! **********\n",
      "Episode completed, steps:3\n",
      "New episode\n",
      "31\n",
      "Episode completed, steps:20001\n",
      "New episode\n",
      "32\n",
      "Episode completed, steps:20001\n",
      "New episode\n",
      "33\n",
      "Episode completed, steps:20001\n",
      "New episode\n",
      "34\n",
      "Episode completed, steps:20001\n",
      "New episode\n",
      "35\n",
      "Episode completed, steps:20001\n",
      "New episode\n",
      "36\n",
      "Episode completed, steps:20001\n",
      "New episode\n",
      "37\n",
      "\n",
      "*************** PROBLEM SOLVED!!!!!!!!!!!! **********\n",
      "Episode completed, steps:2\n",
      "New episode\n",
      "38\n",
      "\n",
      "*************** PROBLEM SOLVED!!!!!!!!!!!! **********\n",
      "Episode completed, steps:2\n",
      "New episode\n",
      "39\n",
      "\n",
      "*************** PROBLEM SOLVED!!!!!!!!!!!! **********\n",
      "Episode completed, steps:2\n",
      "New episode\n",
      "40\n",
      "Episode completed, steps:20001\n",
      "New episode\n",
      "41\n",
      "Episode completed, steps:20001\n",
      "New episode\n",
      "42\n",
      "\n",
      "*************** PROBLEM SOLVED!!!!!!!!!!!! **********\n",
      "Episode completed, steps:2\n",
      "New episode\n",
      "43\n",
      "\n",
      "*************** PROBLEM SOLVED!!!!!!!!!!!! **********\n",
      "Episode completed, steps:2\n",
      "New episode\n",
      "44\n",
      "Episode completed, steps:20001\n",
      "New episode\n",
      "45\n",
      "Episode completed, steps:20001\n",
      "New episode\n",
      "46\n",
      "\n",
      "*************** PROBLEM SOLVED!!!!!!!!!!!! **********\n",
      "Episode completed, steps:2\n",
      "New episode\n",
      "47\n",
      "Episode completed, steps:20001\n",
      "New episode\n",
      "48\n",
      "\n",
      "*************** PROBLEM SOLVED!!!!!!!!!!!! **********\n",
      "Episode completed, steps:4\n",
      "New episode\n",
      "49\n",
      "\n",
      "*************** PROBLEM SOLVED!!!!!!!!!!!! **********\n",
      "Episode completed, steps:2\n",
      "New episode\n",
      "Average episode length 10801.82\n"
     ]
    }
   ],
   "source": [
    "ep_lengths = []\n",
    "n = 0\n",
    "while (n<num_episodes):    \n",
    "    steps =1\n",
    "    done = False\n",
    "    current_state = env.reset()\n",
    "    print (n)\n",
    "    which_epsilon = EPSILON_START*(1- (n/num_episodes))\n",
    "    #print (which_epsilon)\n",
    "    while (done == False):\n",
    "        #print (q_values)        \n",
    "        next_action = choose_next_action_epsilon_greedy(current_state,which_epsilon)\n",
    "        #print (next_action)\n",
    "        obs, reward, done, empty = env.step (next_action)\n",
    "        calculate_next_q_value(current_state,next_action,reward,obs)\n",
    "        current_state = obs\n",
    "        #print ('Next action ' + str(next_action))\n",
    "        #print ('Obs ' + str(obs))\n",
    "        #env.render()\n",
    "        steps +=1    \n",
    "    #print (done)\n",
    "    print (\"Episode completed, steps:\" + str(steps))\n",
    "    print ('New episode')\n",
    "    ep_lengths.append(steps)\n",
    "    n+=1\n",
    "\n",
    "print (\"Average episode length \" + str(sum(ep_lengths) / float(len(ep_lengths))))\n"
   ]
  },
  {
   "cell_type": "code",
   "execution_count": 22,
   "metadata": {},
   "outputs": [
    {
     "name": "stdout",
     "output_type": "stream",
     "text": [
      "{'2 0 0 1 1': -0.9999999999999996, '2 0 0 1 3': -0.9999999999999996, '2 0 0 1 0': 0.0, '0 0 0 1 0': -0.9999999999999996, '0 0 0 1 1': -0.9999999999999996, '0 0 0 1 2': 0.0, '0 0 0 1 3': -0.9999999999999996, '2 0 0 1 2': -0.9999999999999996, '0 1 2 0 0': -0.19, '0 1 2 0 1': -0.1, '0 1 2 0 2': -0.271, '0 1 2 0 3': 0.06529374621000002, '0 0 2 0 0': -0.19, '0 0 2 0 2': 0.6125795110000001, '0 0 2 0 3': -0.11668725379, '0 1 0 0 3': 0.5695327900000001, '2 0 0 0 3': -0.1, '2 0 0 0 0': 0.46855900000000006, '0 1 0 0 2': -0.09010000000000001, '0 0 2 0 1': -0.112971169, '0 1 0 0 1': -0.0659539}\n"
     ]
    }
   ],
   "source": [
    "print (q_values)"
   ]
  },
  {
   "cell_type": "code",
   "execution_count": 23,
   "metadata": {},
   "outputs": [
    {
     "data": {
      "text/plain": [
       "[<matplotlib.lines.Line2D at 0x1129cfa90>]"
      ]
     },
     "execution_count": 23,
     "metadata": {},
     "output_type": "execute_result"
    },
    {
     "data": {
      "image/png": "[encoded data removed]",
      "text/plain": [
       "<Figure size 432x288 with 1 Axes>"
      ]
     },
     "metadata": {},
     "output_type": "display_data"
    }
   ],
   "source": [
    "%matplotlib inline\n",
    "import matplotlib.pyplot as plt\n",
    "\n",
    "plt.plot(ep_lengths)"
   ]
  }
 ],
 "metadata": {
  "kernelspec": {
   "display_name": "Python 3",
   "language": "python",
   "name": "python3"
  },
  "language_info": {
   "codemirror_mode": {
    "name": "ipython",
    "version": 3
   },
   "file_extension": ".py",
   "mimetype": "text/x-python",
   "name": "python",
   "nbconvert_exporter": "python",
   "pygments_lexer": "ipython3",
   "version": "3.6.6"
  }
 },
 "nbformat": 4,
 "nbformat_minor": 2
}
